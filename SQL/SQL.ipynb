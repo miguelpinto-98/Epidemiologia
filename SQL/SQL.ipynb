{
 "cells": [
  {
   "cell_type": "code",
   "execution_count": 1,
   "metadata": {},
   "outputs": [
    {
     "data": {
      "text/plain": [
       "['Requirement already satisfied: ipython-sql in c:\\\\progra~1\\\\qgis3~1.10\\\\apps\\\\python37\\\\lib\\\\site-packages (0.3.9)',\n",
       " 'Requirement already satisfied: sqlalchemy>=0.6.7 in c:\\\\progra~1\\\\qgis3~1.10\\\\apps\\\\python37\\\\lib\\\\site-packages (from ipython-sql) (1.3.16)',\n",
       " 'Requirement already satisfied: sqlparse in c:\\\\progra~1\\\\qgis3~1.10\\\\apps\\\\python37\\\\lib\\\\site-packages (from ipython-sql) (0.3.1)',\n",
       " 'Requirement already satisfied: ipython>=1.0 in c:\\\\progra~1\\\\qgis3~1.10\\\\apps\\\\python37\\\\lib\\\\site-packages (from ipython-sql) (7.13.0)',\n",
       " 'Requirement already satisfied: prettytable in c:\\\\progra~1\\\\qgis3~1.10\\\\apps\\\\python37\\\\lib\\\\site-packages (from ipython-sql) (0.7.2)',\n",
       " 'Requirement already satisfied: six in c:\\\\progra~1\\\\qgis3~1.10\\\\apps\\\\python37\\\\lib\\\\site-packages (from ipython-sql) (1.12.0)',\n",
       " 'Requirement already satisfied: ipython-genutils>=0.1.0 in c:\\\\progra~1\\\\qgis3~1.10\\\\apps\\\\python37\\\\lib\\\\site-packages (from ipython-sql) (0.2.0)',\n",
       " 'Requirement already satisfied: prompt-toolkit!=3.0.0,!=3.0.1,<3.1.0,>=2.0.0 in c:\\\\progra~1\\\\qgis3~1.10\\\\apps\\\\python37\\\\lib\\\\site-packages (from ipython>=1.0->ipython-sql) (3.0.5)',\n",
       " 'Requirement already satisfied: colorama; sys_platform == \"win32\" in c:\\\\progra~1\\\\qgis3~1.10\\\\apps\\\\python37\\\\lib\\\\site-packages (from ipython>=1.0->ipython-sql) (0.4.3)',\n",
       " 'Requirement already satisfied: setuptools>=18.5 in c:\\\\progra~1\\\\qgis3~1.10\\\\apps\\\\python37\\\\lib\\\\site-packages (from ipython>=1.0->ipython-sql) (42.0.2)',\n",
       " 'Requirement already satisfied: traitlets>=4.2 in c:\\\\progra~1\\\\qgis3~1.10\\\\apps\\\\python37\\\\lib\\\\site-packages (from ipython>=1.0->ipython-sql) (4.3.2)',\n",
       " 'Requirement already satisfied: decorator in c:\\\\progra~1\\\\qgis3~1.10\\\\apps\\\\python37\\\\lib\\\\site-packages (from ipython>=1.0->ipython-sql) (4.3.0)',\n",
       " 'Requirement already satisfied: jedi>=0.10 in c:\\\\progra~1\\\\qgis3~1.10\\\\apps\\\\python37\\\\lib\\\\site-packages (from ipython>=1.0->ipython-sql) (0.17.0)',\n",
       " 'Requirement already satisfied: pickleshare in c:\\\\progra~1\\\\qgis3~1.10\\\\apps\\\\python37\\\\lib\\\\site-packages (from ipython>=1.0->ipython-sql) (0.7.5)',\n",
       " 'Requirement already satisfied: backcall in c:\\\\progra~1\\\\qgis3~1.10\\\\apps\\\\python37\\\\lib\\\\site-packages (from ipython>=1.0->ipython-sql) (0.1.0)',\n",
       " 'Requirement already satisfied: pygments in c:\\\\progra~1\\\\qgis3~1.10\\\\apps\\\\python37\\\\lib\\\\site-packages (from ipython>=1.0->ipython-sql) (2.2.0)',\n",
       " 'Requirement already satisfied: wcwidth in c:\\\\progra~1\\\\qgis3~1.10\\\\apps\\\\python37\\\\lib\\\\site-packages (from prompt-toolkit!=3.0.0,!=3.0.1,<3.1.0,>=2.0.0->ipython>=1.0->ipython-sql) (0.1.9)',\n",
       " 'Requirement already satisfied: parso>=0.7.0 in c:\\\\progra~1\\\\qgis3~1.10\\\\apps\\\\python37\\\\lib\\\\site-packages (from jedi>=0.10->ipython>=1.0->ipython-sql) (0.7.0)']"
      ]
     },
     "execution_count": 1,
     "metadata": {},
     "output_type": "execute_result"
    }
   ],
   "source": [
    "%%!\n",
    "pip install --trusted-host pypi.org ipython-sql"
   ]
  },
  {
   "cell_type": "code",
   "execution_count": 2,
   "metadata": {},
   "outputs": [],
   "source": [
    "%load_ext sql"
   ]
  },
  {
   "cell_type": "code",
   "execution_count": 3,
   "metadata": {},
   "outputs": [
    {
     "data": {
      "text/plain": [
       "'Connected: @None'"
      ]
     },
     "execution_count": 3,
     "metadata": {},
     "output_type": "execute_result"
    }
   ],
   "source": [
    "%sql sqlite://"
   ]
  },
  {
   "cell_type": "code",
   "execution_count": 4,
   "metadata": {
    "scrolled": false
   },
   "outputs": [
    {
     "name": "stdout",
     "output_type": "stream",
     "text": [
      " * sqlite://\n",
      "Done.\n",
      "1 rows affected.\n"
     ]
    },
    {
     "data": {
      "text/plain": [
       "[]"
      ]
     },
     "execution_count": 4,
     "metadata": {},
     "output_type": "execute_result"
    }
   ],
   "source": [
    "%%sql\n",
    "CREATE TABLE writer (first_name,last_name,year_of_death);\n",
    "INSERT INTO writer VALUES ('William','Shakespeare',1616);"
   ]
  },
  {
   "cell_type": "code",
   "execution_count": 5,
   "metadata": {},
   "outputs": [
    {
     "name": "stdout",
     "output_type": "stream",
     "text": [
      " * sqlite://\n",
      "1 rows affected.\n"
     ]
    },
    {
     "data": {
      "text/plain": [
       "[]"
      ]
     },
     "execution_count": 5,
     "metadata": {},
     "output_type": "execute_result"
    }
   ],
   "source": [
    "%%sql\n",
    "INSERT INTO writer VALUES ('Bertold','Brecht',1956);"
   ]
  },
  {
   "cell_type": "code",
   "execution_count": 6,
   "metadata": {},
   "outputs": [
    {
     "name": "stdout",
     "output_type": "stream",
     "text": [
      " * sqlite://\n",
      "Done.\n"
     ]
    },
    {
     "data": {
      "text/html": [
       "<table>\n",
       "    <tr>\n",
       "        <th>first_name</th>\n",
       "        <th>last_name</th>\n",
       "        <th>year_of_death</th>\n",
       "    </tr>\n",
       "    <tr>\n",
       "        <td>William</td>\n",
       "        <td>Shakespeare</td>\n",
       "        <td>1616</td>\n",
       "    </tr>\n",
       "    <tr>\n",
       "        <td>Bertold</td>\n",
       "        <td>Brecht</td>\n",
       "        <td>1956</td>\n",
       "    </tr>\n",
       "</table>"
      ],
      "text/plain": [
       "[('William', 'Shakespeare', 1616), ('Bertold', 'Brecht', 1956)]"
      ]
     },
     "execution_count": 6,
     "metadata": {},
     "output_type": "execute_result"
    }
   ],
   "source": [
    "%sql select * from writer"
   ]
  }
 ],
 "metadata": {
  "kernelspec": {
   "display_name": "Python 3",
   "language": "python",
   "name": "python3"
  },
  "language_info": {
   "codemirror_mode": {
    "name": "ipython",
    "version": 3
   },
   "file_extension": ".py",
   "mimetype": "text/x-python",
   "name": "python",
   "nbconvert_exporter": "python",
   "pygments_lexer": "ipython3",
   "version": "3.7.0"
  }
 },
 "nbformat": 4,
 "nbformat_minor": 2
}
